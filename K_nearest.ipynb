{
 "cells": [
  {
   "cell_type": "code",
   "execution_count": 10,
   "id": "5d47eb58-2355-44ca-85fc-02c3d2e0a3d0",
   "metadata": {
    "tags": []
   },
   "outputs": [],
   "source": [
    "import pandas as pd\n",
    "import matplotlib.pyplot as plt\n",
    "import numpy as np\n",
    "from tabulate import tabulate\n",
    "import matplotlib.pyplot as plt\n",
    "from matplotlib.patches import Polygon\n",
    "import numpy as np\n",
    "import random"
   ]
  },
  {
   "cell_type": "code",
   "execution_count": 11,
   "id": "f1d49c20-41ba-49df-9e0d-f35688c5f72e",
   "metadata": {
    "tags": []
   },
   "outputs": [],
   "source": [
    "def read_excel_file(filename):\n",
    "    data = pd.read_excel(filename)\n",
    "    coordinates = data[['X','Y']].values\n",
    "    customers = data.iloc[1:][['X','Y']].values\n",
    "    depot = data.iloc[0][['X','Y']].values\n",
    "    demands = data['Demand'].values\n",
    "    return coordinates, demands, customers, depot"
   ]
  },
  {
   "cell_type": "code",
   "execution_count": 12,
   "id": "9b35df9f-2662-4168-817e-38c4c1744d65",
   "metadata": {
    "tags": []
   },
   "outputs": [],
   "source": [
    "def calculate_distance(coordinates, i, j):\n",
    "    x1, y1 = coordinates[i]\n",
    "    x2, y2 = coordinates[j]\n",
    "    return np.sqrt((x1 - x2) ** 2 + (y1 - y2) ** 2)"
   ]
  },
  {
   "cell_type": "code",
   "execution_count": 13,
   "id": "40020daa-59f6-4257-b0e1-4e704f0ab0b2",
   "metadata": {
    "tags": []
   },
   "outputs": [],
   "source": [
    "def calculate_distance_matrix(coordinates):\n",
    "    num_points = len(coordinates)\n",
    "    dist_matrix = np.zeros((num_points, num_points))\n",
    "\n",
    "    for i in range(num_points):\n",
    "        for j in range(num_points):\n",
    "            dist_matrix[i, j] = calculate_distance(coordinates, i, j)\n",
    "\n",
    "    return dist_matrix"
   ]
  },
  {
   "cell_type": "code",
   "execution_count": 14,
   "id": "82857461-e9f1-4ddd-bfbf-a01b8587e3c0",
   "metadata": {
    "tags": []
   },
   "outputs": [],
   "source": [
    "def calculate_total_distance(route, dist_matrix):\n",
    "    total_distance = 0\n",
    "    num_points = len(route)\n",
    "\n",
    "    for i in range(num_points - 1):\n",
    "        current_node = route[i]\n",
    "        next_node = route[i + 1]\n",
    "        total_distance += dist_matrix[current_node, next_node]\n",
    "\n",
    "    return total_distance"
   ]
  },
  {
   "cell_type": "code",
   "execution_count": 15,
   "id": "00a6abcf-6ed9-47d6-9e81-e670320ed6df",
   "metadata": {
    "tags": []
   },
   "outputs": [],
   "source": [
    "def format_output(routes, coordinates):\n",
    "    coordinate_routes = []\n",
    "    for route in routes:\n",
    "        curr_route = []\n",
    "        for node_index in route:\n",
    "            curr_route.append(coordinates[node_index])\n",
    "        curr_route.append(coordinates[0])  # Adding the depot coordinates at the end\n",
    "        coordinate_routes.append(curr_route)\n",
    "    return coordinate_routes"
   ]
  },
  {
   "cell_type": "code",
   "execution_count": null,
   "id": "68d37400-65e6-4beb-b586-4e880fdac8fd",
   "metadata": {},
   "outputs": [],
   "source": [
    "def nearest_neighbor(dist_matrix, demands, capacity):\n",
    "    num_points = dist_matrix.shape[0]\n",
    "    print(\"Dimension :\",num_points)\n",
    "    visited = np.zeros(num_points, dtype=bool)\n",
    "    routes = []\n",
    "    \n",
    "    headers = [\"Current Node\", \"Nearest Neighbor\", \"Minimum Distance\"]\n",
    "    while np.sum(visited) < num_points:\n",
    "        print(\"\\n[ Visited :\",np.sum(visited),\"\\t<\",\"Num Points :\",num_points,\"]\\n\")\n",
    "        data = []\n",
    "        current_node = 0 \n",
    "        current_capacity = 0\n",
    "        route = [current_node]\n",
    "        visited[current_node] = True  \n",
    "        \n",
    "        while current_capacity + demands[current_node] <= capacity:\n",
    "            current = route[-1]\n",
    "            nearest = None\n",
    "            min_dist = float('inf')\n",
    "            check = 0\n",
    "            for neighbor in np.where(~visited)[0]:\n",
    "                if demands[neighbor] + current_capacity <= capacity and dist_matrix[current, neighbor] < min_dist:\n",
    "                    if(check==0):\n",
    "                        check = 1;\n",
    "                    else:\n",
    "                        nearest = neighbor\n",
    "                        min_dist = dist_matrix[current, neighbor]\n",
    "\n",
    "            if nearest is None:\n",
    "                break\n",
    "            \n",
    "            data.append([current,nearest,min_dist])\n",
    "            route.append(nearest)\n",
    "            visited[nearest] = True\n",
    "            current_capacity += demands[nearest]\n",
    "        \n",
    "        routes.append(route)\n",
    "        table = tabulate(data, headers, tablefmt=\"pretty\")\n",
    "        print(table)\n",
    "    return routes"
   ]
  },
  {
   "cell_type": "code",
   "execution_count": 16,
   "id": "85d8605c-91b4-4100-8d93-e171775add96",
   "metadata": {},
   "outputs": [],
   "source": [
    "import numpy as np\n",
    "from sklearn.cluster import KMeans\n",
    "import copy\n",
    "\n",
    "def GeneratePopulation(dist_matrix, demands, capacity, population_size):\n",
    "    num_points = dist_matrix.shape[0]\n",
    "    population = []\n",
    "    for i in range(population_size):\n",
    "        clusters  =  random.randint(9,16)\n",
    "        kmeans = KMeans(n_clusters=clusters, random_state=5).fit(dist_matrix)\n",
    "        routes = []\n",
    "        for cluster_label in range(clusters):\n",
    "            cluster_indices = np.where(kmeans.labels_ == cluster_label)[0]\n",
    "            if len(cluster_indices) == 0:\n",
    "                continue\n",
    "\n",
    "            cluster_demands = demands[cluster_indices]\n",
    "            total_demand = np.sum(cluster_demands)\n",
    "            if total_demand > capacity:\n",
    "                continue\n",
    "\n",
    "            route = [0]  # Starting point for each route\n",
    "            current_capacity = 0\n",
    "            for node_index in cluster_indices:\n",
    "                if current_capacity + demands[node_index] > capacity:\n",
    "                    route.append(0)  # Returning to the depot\n",
    "                    current_capacity = 0\n",
    "                    route.append(node_index)\n",
    "                    current_capacity += demands[node_index]\n",
    "                else:\n",
    "                    route.append(node_index)\n",
    "                    current_capacity += demands[node_index]\n",
    "            route.append(0)  # Returning to the depot at the end\n",
    "            routes.append(route)\n",
    "\n",
    "        population.append(copy.deepcopy(routes))  # Deep copy of routes\n",
    "    return population\n"
   ]
  },
  {
   "cell_type": "code",
   "execution_count": 17,
   "id": "f3f02248-c964-4b73-a959-8a7782a972c7",
   "metadata": {
    "tags": []
   },
   "outputs": [],
   "source": [
    "def vrp_solver(filename, capacity):\n",
    "    coordinates, demands, customers, depot = read_excel_file(filename)\n",
    "    dist_matrix = calculate_distance_matrix(coordinates)\n",
    "    routes = GeneratePopulation(dist_matrix, demands, capacity, 10)\n",
    "    formatted_routes = format_output(routes,coordinates)\n",
    "    return routes"
   ]
  },
  {
   "cell_type": "code",
   "execution_count": 18,
   "id": "be0e23e5-0a6f-4700-8024-86eec0726272",
   "metadata": {
    "tags": []
   },
   "outputs": [],
   "source": [
    "filename = \"VRP_Problem1.xlsx\"\n",
    "capacity = 100\n",
    "solution = vrp_solver(filename, capacity)"
   ]
  },
  {
   "cell_type": "code",
   "execution_count": 19,
   "id": "6b96305e-6687-49c5-9eb7-0ce00e277aef",
   "metadata": {},
   "outputs": [
    {
     "name": "stdout",
     "output_type": "stream",
     "text": [
      "[[[0, 7, 0], [0, 11, 18, 23, 28, 31, 0], [0, 15, 0], [0, 4, 12, 0], [0, 1, 14, 19, 21, 0], [0, 9, 17, 0], [0, 10, 0], [0, 32, 0], [0, 3, 16, 0], [0, 0, 2, 22, 0], [0, 6, 24, 0], [0, 29, 0], [0, 13, 0], [0, 20, 0], [0, 5, 25, 27, 30, 0], [0, 8, 26, 0]], [[0, 7, 26, 0], [0, 11, 18, 23, 28, 31, 0], [0, 15, 0], [0, 4, 12, 0], [0, 1, 14, 19, 21, 0], [0, 9, 17, 0], [0, 10, 0], [0, 32, 0], [0, 3, 16, 0], [0, 0, 2, 22, 0], [0, 6, 24, 0], [0, 29, 0], [0, 8, 13, 0], [0, 20, 0], [0, 5, 25, 27, 30, 0]], [[0, 7, 8, 13, 26, 0], [0, 0, 2, 15, 22, 0], [0, 4, 12, 0], [0, 1, 14, 19, 21, 0], [0, 9, 17, 0], [0, 5, 10, 25, 27, 30, 0], [0, 20, 32, 0], [0, 3, 16, 0]], [[0, 7, 8, 13, 26, 0], [0, 0, 2, 15, 22, 0], [0, 4, 12, 0], [0, 1, 14, 19, 21, 0], [0, 9, 17, 0], [0, 5, 10, 25, 27, 30, 0], [0, 20, 32, 0], [0, 3, 16, 0]], [[0, 7, 8, 13, 26, 0], [0, 11, 18, 23, 28, 31, 0], [0, 15, 0], [0, 4, 12, 0], [0, 1, 14, 19, 21, 0], [0, 9, 17, 0], [0, 5, 10, 25, 27, 30, 0], [0, 20, 32, 0], [0, 3, 16, 0], [0, 0, 2, 22, 0], [0, 6, 24, 0], [0, 29, 0]], [[0, 7, 26, 0], [0, 11, 18, 23, 28, 31, 0], [0, 15, 0], [0, 4, 12, 0], [0, 1, 14, 19, 21, 0], [0, 9, 17, 0], [0, 5, 10, 25, 27, 30, 0], [0, 32, 0], [0, 3, 16, 0], [0, 0, 2, 22, 0], [0, 6, 24, 0], [0, 29, 0], [0, 8, 13, 0], [0, 20, 0]], [[0, 7, 8, 13, 26, 0], [0, 11, 18, 23, 28, 31, 0], [0, 15, 0], [0, 4, 12, 0], [0, 1, 14, 19, 21, 0], [0, 9, 17, 0], [0, 5, 10, 25, 27, 30, 0], [0, 20, 32, 0], [0, 3, 16, 0], [0, 0, 2, 22, 0], [0, 6, 24, 0], [0, 29, 0]], [[0, 7, 8, 13, 26, 0], [0, 15, 0], [0, 4, 12, 0], [0, 1, 14, 19, 21, 0], [0, 9, 17, 0], [0, 5, 10, 25, 27, 30, 0], [0, 20, 32, 0], [0, 3, 16, 0], [0, 0, 2, 22, 0]], [[0, 7, 26, 0], [0, 11, 18, 23, 28, 31, 0], [0, 15, 0], [0, 4, 12, 0], [0, 1, 14, 19, 21, 0], [0, 9, 17, 0], [0, 10, 0], [0, 32, 0], [0, 3, 16, 0], [0, 0, 2, 22, 0], [0, 6, 24, 0], [0, 29, 0], [0, 8, 13, 0], [0, 20, 0], [0, 5, 25, 27, 30, 0]], [[0, 7, 8, 13, 26, 0], [0, 11, 18, 23, 28, 31, 0], [0, 15, 0], [0, 4, 12, 0], [0, 1, 14, 19, 21, 0], [0, 9, 17, 0], [0, 5, 10, 25, 27, 30, 0], [0, 20, 32, 0], [0, 3, 16, 0], [0, 0, 2, 22, 0], [0, 6, 24, 0], [0, 29, 0]]]\n"
     ]
    }
   ],
   "source": [
    "print(solution)"
   ]
  },
  {
   "cell_type": "code",
   "execution_count": 20,
   "id": "fbdc8497-b10b-4190-a891-103cf5fe7531",
   "metadata": {
    "tags": []
   },
   "outputs": [
    {
     "name": "stdout",
     "output_type": "stream",
     "text": [
      "[[0, 7, 0, 11, 18, 23, 28, 31, 0, 15, 0, 4, 12, 0, 1, 14, 19, 21, 0, 9, 17, 0, 10, 0, 32, 0, 3, 16, 0, 2, 22, 0, 6, 24, 0, 29, 0, 13, 0, 20, 0, 5, 25, 27, 30, 0, 8, 26, 0], [0, 7, 26, 0, 11, 18, 23, 28, 31, 0, 15, 0, 4, 12, 0, 1, 14, 19, 21, 0, 9, 17, 0, 10, 0, 32, 0, 3, 16, 0, 2, 22, 0, 6, 24, 0, 29, 0, 8, 13, 0, 20, 0, 5, 25, 27, 30, 0], [0, 7, 8, 13, 26, 0, 2, 15, 22, 0, 4, 12, 0, 1, 14, 19, 21, 0, 9, 17, 0, 5, 10, 25, 27, 30, 0, 20, 32, 0, 3, 16, 0], [0, 7, 8, 13, 26, 0, 2, 15, 22, 0, 4, 12, 0, 1, 14, 19, 21, 0, 9, 17, 0, 5, 10, 25, 27, 30, 0, 20, 32, 0, 3, 16, 0], [0, 7, 8, 13, 26, 0, 11, 18, 23, 28, 31, 0, 15, 0, 4, 12, 0, 1, 14, 19, 21, 0, 9, 17, 0, 5, 10, 25, 27, 30, 0, 20, 32, 0, 3, 16, 0, 2, 22, 0, 6, 24, 0, 29, 0], [0, 7, 26, 0, 11, 18, 23, 28, 31, 0, 15, 0, 4, 12, 0, 1, 14, 19, 21, 0, 9, 17, 0, 5, 10, 25, 27, 30, 0, 32, 0, 3, 16, 0, 2, 22, 0, 6, 24, 0, 29, 0, 8, 13, 0, 20, 0], [0, 7, 8, 13, 26, 0, 11, 18, 23, 28, 31, 0, 15, 0, 4, 12, 0, 1, 14, 19, 21, 0, 9, 17, 0, 5, 10, 25, 27, 30, 0, 20, 32, 0, 3, 16, 0, 2, 22, 0, 6, 24, 0, 29, 0], [0, 7, 8, 13, 26, 0, 15, 0, 4, 12, 0, 1, 14, 19, 21, 0, 9, 17, 0, 5, 10, 25, 27, 30, 0, 20, 32, 0, 3, 16, 0, 2, 22, 0], [0, 7, 26, 0, 11, 18, 23, 28, 31, 0, 15, 0, 4, 12, 0, 1, 14, 19, 21, 0, 9, 17, 0, 10, 0, 32, 0, 3, 16, 0, 2, 22, 0, 6, 24, 0, 29, 0, 8, 13, 0, 20, 0, 5, 25, 27, 30, 0], [0, 7, 8, 13, 26, 0, 11, 18, 23, 28, 31, 0, 15, 0, 4, 12, 0, 1, 14, 19, 21, 0, 9, 17, 0, 5, 10, 25, 27, 30, 0, 20, 32, 0, 3, 16, 0, 2, 22, 0, 6, 24, 0, 29, 0]]\n"
     ]
    }
   ],
   "source": [
    "my_list=[]\n",
    "for routes in solution:\n",
    "    list=[]\n",
    "    for route in routes:\n",
    "        for customer in route:\n",
    "            if len(list)==0:\n",
    "                list.append(0)\n",
    "            elif (len(list)!=0 and list[-1]==0) and customer==0:\n",
    "                continue\n",
    "            else:\n",
    "                list.append(customer)\n",
    "    \n",
    "    my_list.append(list)\n",
    "\n",
    "print(my_list)"
   ]
  },
  {
   "cell_type": "code",
   "execution_count": null,
   "id": "87597609-dc2f-4a95-9a06-89a2fd1345fe",
   "metadata": {},
   "outputs": [],
   "source": []
  },
  {
   "cell_type": "code",
   "execution_count": null,
   "id": "2341e552-e168-4f9e-8146-a065d6fd264f",
   "metadata": {},
   "outputs": [],
   "source": []
  },
  {
   "cell_type": "code",
   "execution_count": null,
   "id": "706bb1a8-7e8d-4e45-8f22-d57976c97d07",
   "metadata": {},
   "outputs": [],
   "source": []
  },
  {
   "cell_type": "code",
   "execution_count": null,
   "id": "89f6a840-ab0d-45cc-a482-458d8652e6f8",
   "metadata": {},
   "outputs": [],
   "source": []
  },
  {
   "cell_type": "code",
   "execution_count": null,
   "id": "a8809b45-f858-4a24-9e97-807b53810fa4",
   "metadata": {},
   "outputs": [],
   "source": []
  },
  {
   "cell_type": "code",
   "execution_count": null,
   "id": "5657ae6b-4e7a-4b37-9fdd-045993fa8bf7",
   "metadata": {},
   "outputs": [],
   "source": []
  },
  {
   "cell_type": "code",
   "execution_count": null,
   "id": "23d66ce9-577c-4958-97ab-52ef33514ae5",
   "metadata": {},
   "outputs": [],
   "source": []
  },
  {
   "cell_type": "code",
   "execution_count": null,
   "id": "ee9a5635-d1fd-4a40-94b6-94cb321b96f7",
   "metadata": {},
   "outputs": [],
   "source": []
  },
  {
   "cell_type": "code",
   "execution_count": 18,
   "id": "f8bbd5de-be64-41f5-8d80-da282a9561ef",
   "metadata": {
    "scrolled": true
   },
   "outputs": [
    {
     "name": "stdout",
     "output_type": "stream",
     "text": [
      "Best Route: [0, 7, 8, 13, 26, 0, 11, 0, 8, 23, 28, 29, 31, 0, 15, 0, 4, 12, 0, 1, 14, 19, 21, 0, 9, 17, 0, 5, 10, 25, 0, 26, 30, 0, 20, 32, 0, 3, 16, 0, 2, 22, 0, 6, 24, 18, 0, 27, 0, 0]\n"
     ]
    }
   ],
   "source": [
    "import numpy as np\n",
    "import random\n",
    "\n",
    "# Problem parameters\n",
    "num_customers = 32\n",
    "capacity = 100\n",
    "num_ants = 10\n",
    "num_iterations = 100\n",
    "pheromone_evaporation_rate = 0.25\n",
    "pheromone_deposit_rate = 1\n",
    "alpha = 1\n",
    "beta = 2\n",
    "Q = 100\n",
    "\n",
    "# Distance matrix (example, replace with actual distances)\n",
    "distance_matrix = np.random.randint(1, 100, size=(num_customers + 1, num_customers + 1))\n",
    "np.fill_diagonal(distance_matrix, 0)\n",
    "\n",
    "# Demand dictionary\n",
    "demand = {\n",
    "    0: 0, 1: 5, 2: 23, 3: 14, 4: 13, 5: 8, 6: 18, 7: 19, 8: 10, 9: 18,\n",
    "    10: 20, 11: 5, 12: 9, 13: 23, 14: 9, 15: 18, 16: 10, 17: 24, 18: 13,\n",
    "    19: 14, 20: 8, 21: 10, 22: 19, 23: 14, 24: 13, 25: 14, 26: 2, 27: 23,\n",
    "    28: 15, 29: 8, 30: 20, 31: 24, 32: 3\n",
    "}\n",
    "\n",
    "# Routes\n",
    "routes = [[0, 7, 8, 13, 26, 0, 2, 15, 22, 0, 4, 12, 0, 1, 14, 19, 21, 0, 9, 17, 0, 5, 10, 25, 27, 30, 0, 21, 32, 0, 3, 16, 0],\n",
    "          [0, 7, 8, 13, 26, 0, 11, 8, 23, 28, 29, 31, 0, 15, 0, 4, 12, 0, 1, 14, 19, 21, 0, 9, 17, 0, 5, 10, 25, 26, 30, 0, 20, 32, 0, 3, 16, 0, 2, 22, 0, 6, 24]]\n",
    "\n",
    "# Initialize pheromone matrix\n",
    "pheromone = np.ones((num_customers + 1, num_customers + 1))\n",
    "\n",
    "def construct_solution(route):\n",
    "    # Construct solution tour for a single ant based on given route\n",
    "    ant_solution = [0]  # Start from the depot\n",
    "    current_capacity = 0\n",
    "    current_location = 0  # Depot\n",
    "    visited = set()  # Track visited customers\n",
    "    for customer in route[1:]:\n",
    "        if customer == 0:\n",
    "            ant_solution.append(customer)\n",
    "            current_capacity = 0\n",
    "            current_location = customer\n",
    "        elif current_capacity + demand[customer] <= capacity and customer not in visited:\n",
    "            ant_solution.append(customer)\n",
    "            current_capacity += demand[customer]\n",
    "            current_location = customer\n",
    "            visited.add(customer)\n",
    "        else:\n",
    "            # Return to depot if capacity exceeded or customer already visited\n",
    "            ant_solution.append(0)\n",
    "            ant_solution.append(customer)\n",
    "            current_capacity = demand[customer]\n",
    "            current_location = customer\n",
    "            visited.add(customer)\n",
    "    # Ensure all customers are visited exactly once\n",
    "    unvisited_customers = set(demand.keys()) - visited\n",
    "    for customer in unvisited_customers:\n",
    "        if customer != 0:\n",
    "            ant_solution.append(customer)\n",
    "            ant_solution.append(0)\n",
    "    ant_solution.append(0)  # Return to depot at the end\n",
    "    return ant_solution\n",
    "\n",
    "\n",
    "\n",
    "\n",
    "\n",
    "\n",
    "def update_pheromone(pheromone, solutions):\n",
    "    # Update pheromone levels based on solutions found\n",
    "    delta_pheromone = np.zeros_like(pheromone)\n",
    "    for solution in solutions:\n",
    "        for i in range(len(solution) - 1):\n",
    "            delta_pheromone[solution[i], solution[i+1]] += Q / len(solution)\n",
    "    pheromone = (1 - pheromone_evaporation_rate) * pheromone + delta_pheromone\n",
    "    return pheromone\n",
    "\n",
    "# Main ACO loop\n",
    "for iteration in range(num_iterations):\n",
    "    ant_solutions = []\n",
    "    for ant in range(num_ants):\n",
    "        # Choose a route for the ant\n",
    "        route_index = random.randint(0, 1)\n",
    "        ant_solution = construct_solution(routes[route_index])\n",
    "        ant_solutions.append(ant_solution)\n",
    "    pheromone = update_pheromone(pheromone, ant_solutions)\n",
    "\n",
    "# Select the best solution found so far as the final route\n",
    "# This can be based on the total distance or other criteria\n",
    "best_solution_index = np.argmax([sum(demand[node] for node in solution) for solution in ant_solutions])\n",
    "best_route = ant_solutions[best_solution_index]\n",
    "\n",
    "print(\"Best Route:\", best_route)"
   ]
  },
  {
   "cell_type": "code",
   "execution_count": null,
   "id": "ce440469-f765-414d-964f-7b66f2b28c89",
   "metadata": {},
   "outputs": [],
   "source": []
  },
  {
   "cell_type": "code",
   "execution_count": null,
   "id": "7fdd0911-2945-49d9-aa8a-c4ee226bdfd1",
   "metadata": {},
   "outputs": [],
   "source": []
  },
  {
   "cell_type": "code",
   "execution_count": 17,
   "id": "ec90c4c8-8069-4eb4-bb14-39bc49481a82",
   "metadata": {},
   "outputs": [],
   "source": [
    "###ACO"
   ]
  },
  {
   "cell_type": "code",
   "execution_count": 28,
   "id": "4af13aec-d881-4ace-bd4a-df7f626f97be",
   "metadata": {},
   "outputs": [
    {
     "name": "stdout",
     "output_type": "stream",
     "text": [
      "Best Route: [0, 7, 8, 13, 26, 0, 11, 18, 23, 28, 29, 31, 0, 15, 0, 4, 12, 0, 1, 14, 19, 21, 0, 9, 17, 0, 5, 10, 25, 27, 30, 0, 20, 32, 0, 3, 16, 0, 0, 2, 22, 0, 6, 24, 0, 0]\n"
     ]
    },
    {
     "name": "stderr",
     "output_type": "stream",
     "text": [
      "C:\\Users\\vuppu\\AppData\\Local\\Temp\\ipykernel_16608\\2518234958.py:84: RuntimeWarning: divide by zero encountered in scalar divide\n",
      "  delta_pheromone[start_node, end_node] += Q / distance_matrix[start_node, end_node]\n"
     ]
    }
   ],
   "source": [
    "import numpy as np\n",
    "import random\n",
    "\n",
    "# Problem parameters\n",
    "num_customers = 32\n",
    "capacity = 100\n",
    "num_ants = 10\n",
    "num_iterations = 100\n",
    "pheromone_evaporation_rate = 0.25\n",
    "pheromone_deposit_rate = 1\n",
    "alpha = 1\n",
    "beta = 2\n",
    "Q = 100\n",
    "\n",
    "# Distance matrix (example, replace with actual distances)\n",
    "distance_matrix = np.random.randint(1, 100, size=(num_customers + 1, num_customers + 1))\n",
    "np.fill_diagonal(distance_matrix, 0)\n",
    "\n",
    "# Demand dictionary\n",
    "demand = {\n",
    "    0: 0, 1: 5, 2: 23, 3: 14, 4: 13, 5: 8, 6: 18, 7: 19, 8: 10, 9: 18,\n",
    "    10: 20, 11: 5, 12: 9, 13: 23, 14: 9, 15: 18, 16: 10, 17: 24, 18: 13,\n",
    "    19: 14, 20: 8, 21: 10, 22: 19, 23: 14, 24: 13, 25: 14, 26: 2, 27: 23,\n",
    "    28: 15, 29: 8, 30: 20, 31: 24, 32: 3\n",
    "}\n",
    "\n",
    "# Routes\n",
    "routes = [\n",
    "[0, 7, 8, 13, 26, 0, 2, 15, 22, 0, 4, 12, 0, 1, 14, 19, 21, 0, 9, 17, 0, 5, 10, 25, 27, 30, 0, 20, 32, 0, 3, 16, 0], \n",
    "[0, 7, 8, 13, 26, 0, 11, 18, 23, 28, 29, 31, 0, 15, 0, 4, 12, 0, 1, 14, 19, 21, 0, 9, 17, 0, 5, 10, 25, 27, 30, 0, 20, 32, 0, 3, 16, 0, 0, 2, 22, 0, 6, 24, 0],\n",
    " [0, 7, 26, 0, 11, 18, 23, 28, 31, 0, 15, 0, 4, 12, 0, 1, 14, 19, 21,0, 9, 17, 0, 10, 0, 32, 0, 3, 16, 0,2, 22, 0, 6, 24, 0, 29, 0, 8, 13, 0, 20, 0, 5, 25, 27, 30, 0],\n",
    " [0, 7, 8, 13, 26, 0, 11, 18, 23, 28, 29, 31, 0, 15, 0, 4, 12, 0, 1, 14, 19, 21, 0, 9, 17, 0, 5, 10, 25, 27, 30, 0, 20, 32, 0, 3, 16, 0, 2, 22, 0, 6, 24, 0], \n",
    "[0, 7, 26, 0, 11, 18, 23, 28, 31, 0, 15, 0, 4, 12, 0, 1, 14, 19, 21, 0, 9, 17, 0, 10, 0, 32, 0, 3, 16, 0, 2, 22, 0, 6, 24, 0, 29, 0, 8, 13, 0, 20, 0, 5, 25, 27, 30, 0], \n",
    "[0, 7, 26, 0, 11, 18, 23, 28, 31, 0, 15, 0, 4, 12, 0, 1, 14, 19, 21, 0, 9, 17, 0, 5, 10, 25, 27, 30, 0, 20, 32, 0, 3, 16,0, 2, 22, 0, 6, 24, 0, 29, 0, 8, 13, 0], \n",
    "[0, 7, 26, 0, 11, 18, 23, 28, 31, 0, 15, 0, 4, 12, 0, 1, 14, 19, 21, 0, 9, 17, 0, 10, 0, 32, 0, 3, 16, 0, 2, 22, 0, 6, 24, 0, 29, 0, 8, 13, 0, 20, 0, 5, 25, 27, 30, 0],\n",
    "[0, 7, 0 ,11, 18, 23, 28, 31, 0, 15, 0, 4, 12, 0, 1, 14, 19, 21, 0, 9, 17, 0, 10, 0, 32, 0, 3, 16, 0, 2, 22, 0, 6, 24, 0, 29, 0, 13, 0, 20, 0, 5, 25, 27, 30, 0, 8, 26, 0],\n",
    "[0, 7, 26, 0, 11, 18, 23, 28, 31, 0, 15, 0, 4, 12, 0, 1, 14, 19, 21, 0, 9, 17, 0, 10, 0, 32, 0, 3, 16, 0, 2, 22, 0, 6, 24, 0, 29, 0, 8, 13, 0, 20, 0, 5, 25, 27, 30, 0],\n",
    " [0, 7, 26, 0, 11, 18, 23, 28, 31, 0, 15, 0, 4, 12, 0, 1, 14, 19, 21, 0, 9, 17, 0, 5, 10, 25, 27, 30, 0, 20, 32, 0, 3, 16, 0, 2, 22, 0, 6, 24, 0, 29, 0, 8, 13, 0]\n",
    "]\n",
    "\n",
    "# Initialize pheromone matrix\n",
    "pheromone = np.ones((num_customers + 1, num_customers + 1))\n",
    "\n",
    "def construct_solution(route):\n",
    "    ant_solution = [0]  # Start from the depot\n",
    "    current_capacity = 0\n",
    "    current_location = 0  # Depot\n",
    "    visited = set()  # Track visited customers\n",
    "    for customer in route[1:]:\n",
    "        if customer == 0:\n",
    "            ant_solution.append(customer)\n",
    "            current_capacity = 0\n",
    "            current_location = customer\n",
    "        elif current_capacity + demand[customer] <= capacity and customer not in visited:\n",
    "            ant_solution.append(customer)\n",
    "            current_capacity += demand[customer]\n",
    "            current_location = customer\n",
    "            visited.add(customer)\n",
    "        elif customer in visited:\n",
    "            # Skip the customer if already visited\n",
    "            continue\n",
    "        else:\n",
    "            # Return to depot if capacity exceeded\n",
    "            ant_solution.append(0)\n",
    "            ant_solution.append(customer)\n",
    "            current_capacity = demand[customer]\n",
    "            current_location = customer\n",
    "            visited.add(customer)\n",
    "    # Ensure all customers are visited exactly once\n",
    "    unvisited_customers = set(demand.keys()) - visited\n",
    "    for customer in unvisited_customers:\n",
    "        if customer != 0:\n",
    "            ant_solution.append(customer)\n",
    "            ant_solution.append(0)\n",
    "    ant_solution.append(0)  # Return to depot at the end\n",
    "    return ant_solution\n",
    "\n",
    "def update_pheromone(pheromone, solutions):\n",
    "    delta_pheromone = np.zeros_like(pheromone)\n",
    "    for solution in solutions:\n",
    "        for i in range(len(solution) - 1):\n",
    "            start_node = solution[i]\n",
    "            end_node = solution[i+1]\n",
    "            delta_pheromone[start_node, end_node] += Q / distance_matrix[start_node, end_node]\n",
    "    pheromone = (1 - pheromone_evaporation_rate) * pheromone + delta_pheromone\n",
    "    return pheromone\n",
    "\n",
    "# Main ACO loop\n",
    "for iteration in range(num_iterations):\n",
    "    ant_solutions = []\n",
    "    for ant in range(num_ants):\n",
    "        # Choose a route for the ant\n",
    "        route_index = random.randint(0, 1)\n",
    "        ant_solution = construct_solution(routes[route_index])\n",
    "        ant_solutions.append(ant_solution)\n",
    "    pheromone = update_pheromone(pheromone, ant_solutions)\n",
    "\n",
    "# Select the best solution found so far as the final route\n",
    "# This can be based on the total distance or other criteria\n",
    "best_solution_index = np.argmax([sum(demand[node] for node in solution) for solution in ant_solutions])\n",
    "best_route = ant_solutions[best_solution_index]\n",
    "\n",
    "print(\"Best Route:\", best_route)"
   ]
  },
  {
   "cell_type": "code",
   "execution_count": null,
   "id": "146ffc32-30d5-4ebc-ad34-51934e512ca6",
   "metadata": {},
   "outputs": [],
   "source": [
    "[ [0, 7, 8, 13, 26, 0, 2, 15, 22, 0, 4, 12, 0, 1, 14, 19, 21, 0, 9, 17, 0, 5, 10, 25, 27, 30, 0, 21, 32, 0, 3, 16, 0],\n",
    "    [0,7,26,0,11,18,23,28,31,0,15,0,4,12,0,1,14,0,19,21,0,9,17,0,10,32,0,3,16,2,22,0,6,24,0,29,0,8,13,0,20,0,5,25,27,30,0],\n",
    "          [0,7,8,13,26,0,11,18,23,28,29,31,0,4,12,0,1,14,19,21,0,9,17,0,5,10,25,27,30,0,20,32,0,3,16,0,2,22,0,6,24,0],\n",
    "         [0, 7, 8, 13, 26, 0, 11, 8, 23, 28, 29, 31, 0, 15, 0, 4, 12, 0, 1, 14, 19, 21, 0, 9, 17, 0, 5, 10, 25, 26, 30, 0, 20, 32, 0, 3, 16, 0, 2, 22, 0, 6, 24]]"
   ]
  },
  {
   "cell_type": "code",
   "execution_count": null,
   "id": "426ebc5d-6ee8-47e8-aa06-4c40bb7a9d85",
   "metadata": {},
   "outputs": [],
   "source": [
    "\n"
   ]
  },
  {
   "cell_type": "code",
   "execution_count": null,
   "id": "9a636a14-c905-4578-a253-490d328991cf",
   "metadata": {},
   "outputs": [],
   "source": []
  },
  {
   "cell_type": "code",
   "execution_count": null,
   "id": "1b78ff17-c44c-4473-85f6-34ef90f5cdd5",
   "metadata": {},
   "outputs": [],
   "source": []
  },
  {
   "cell_type": "code",
   "execution_count": null,
   "id": "3e8acb24-acdd-4e0f-9a24-506e8a9cc71d",
   "metadata": {},
   "outputs": [],
   "source": []
  },
  {
   "cell_type": "code",
   "execution_count": null,
   "id": "34948230-2594-4b96-9a8d-5419c54fa684",
   "metadata": {},
   "outputs": [],
   "source": []
  },
  {
   "cell_type": "code",
   "execution_count": null,
   "id": "8a8f5b39-4ac1-4106-a8f9-7d0f59bfee1d",
   "metadata": {},
   "outputs": [],
   "source": []
  },
  {
   "cell_type": "code",
   "execution_count": null,
   "id": "0dedd79b-cc68-42f5-bf02-9d05210d994b",
   "metadata": {},
   "outputs": [],
   "source": []
  },
  {
   "cell_type": "code",
   "execution_count": null,
   "id": "0d903413-bef4-474a-8749-68adc2783242",
   "metadata": {},
   "outputs": [],
   "source": []
  },
  {
   "cell_type": "code",
   "execution_count": null,
   "id": "d594cae1-af39-4c3d-a7db-0d8ff285f261",
   "metadata": {},
   "outputs": [],
   "source": []
  },
  {
   "cell_type": "code",
   "execution_count": 3,
   "id": "e4ba729e-1f75-4765-80b8-2e3a240da795",
   "metadata": {},
   "outputs": [],
   "source": [
    "##PSO\n"
   ]
  },
  {
   "cell_type": "code",
   "execution_count": 4,
   "id": "8a8645a5-8946-45b8-8bbb-62742bb77511",
   "metadata": {},
   "outputs": [
    {
     "name": "stdout",
     "output_type": "stream",
     "text": [
      "Best route: [0, 7, 8, 13, 26, 0, 2, 15, 22, 0, 4, 12, 0, 1, 14, 19, 21, 0, 9, 17, 0, 5, 10, 25, 27, 30, 0, 20, 32, 0, 3, 16, 0]\n",
      "Best fitness: 270\n"
     ]
    }
   ],
   "source": [
    "import numpy as np\n",
    "\n",
    "class Particle:\n",
    "    def __init__(self, num_customers, capacity, distance_matrix, demand):\n",
    "        self.num_customers = num_customers\n",
    "        self.capacity = capacity\n",
    "        self.distance_matrix = distance_matrix\n",
    "        self.demand = demand\n",
    "        self.position = np.zeros(num_customers + 2, dtype=int)  # Include two zeros for start and end\n",
    "        self.velocity = np.zeros(num_customers + 2, dtype=int)  # Include two zeros for start and end\n",
    "        self.best_position = None\n",
    "        self.best_fitness = float('inf')\n",
    "    \n",
    "    def initialize(self):\n",
    "        self.position[1:-1] = np.random.permutation(range(1, self.num_customers + 1))\n",
    "        self.velocity[1:-1] = np.random.permutation(range(1, self.num_customers + 1))\n",
    "        self.position[-1] = self.position[0]  # Set the last element to 0 for end\n",
    "        self.velocity[-1] = self.velocity[0]  # Set the last element to 0 for end\n",
    "        self.best_position = self.position.copy()\n",
    "        self.best_fitness = self.fitness(self.position)\n",
    "    \n",
    "    def update_velocity(self, global_best_position, c1, c2, w):\n",
    "        r1 = np.random.rand(self.num_customers + 2)\n",
    "        r2 = np.random.rand(self.num_customers + 2)\n",
    "        self.velocity = (w * self.velocity) + (c1 * r1 * (self.best_position - self.position)) + \\\n",
    "                        (c2 * r2 * (global_best_position - self.position))\n",
    "    \n",
    "    def update_position(self):\n",
    "        self.position = np.argsort(self.position + self.velocity)\n",
    "        self.position[-1] = self.position[0]  # Ensure the last element is 0 for end\n",
    "    \n",
    "    def fitness(self, position):\n",
    "        fitness = 0\n",
    "        current_capacity = self.capacity\n",
    "        current_route = []\n",
    "        \n",
    "        for customer in position:\n",
    "            if customer == 0:\n",
    "                if current_route:\n",
    "                    fitness += self.distance_matrix[current_route[-1], 0]\n",
    "                current_route = []\n",
    "                current_capacity = self.capacity\n",
    "            else:\n",
    "                demand = self.demand[customer]\n",
    "                if demand <= current_capacity:\n",
    "                    current_capacity -= demand\n",
    "                else:\n",
    "                    fitness = float('inf')  # Violation of capacity constraint\n",
    "                    break\n",
    "                current_route.append(customer)\n",
    "        \n",
    "        if current_route:\n",
    "            fitness += self.distance_matrix[current_route[-1], 0]\n",
    "        \n",
    "        return fitness\n",
    "\n",
    "\n",
    "\n",
    "def particle_swarm_optimization(num_customers, capacity, num_particles, num_iterations, c1, c2, w,\n",
    "                                distance_matrix, demand, routes):\n",
    "    particles = []\n",
    "    global_best_position = None\n",
    "    global_best_fitness = float('inf')\n",
    "    \n",
    "    # Initialize global_best_position with the position of the first particle\n",
    "    # before entering the optimization loop\n",
    "    first_particle = Particle(num_customers, capacity, distance_matrix, demand)\n",
    "    first_particle.initialize()\n",
    "    global_best_position = first_particle.best_position\n",
    "    global_best_fitness = first_particle.best_fitness\n",
    "    \n",
    "    for _ in range(num_particles):\n",
    "        particle = Particle(num_customers, capacity, distance_matrix, demand)\n",
    "        particle.initialize()\n",
    "        particles.append(particle)\n",
    "        \n",
    "    for _ in range(num_iterations):\n",
    "        for particle in particles:\n",
    "            particle.update_velocity(global_best_position, c1, c2, w)\n",
    "            particle.update_position()\n",
    "            \n",
    "            current_fitness = particle.fitness(particle.position)\n",
    "            if current_fitness < particle.best_fitness:\n",
    "                particle.best_position = particle.position.copy()\n",
    "                particle.best_fitness = current_fitness\n",
    "            \n",
    "            if current_fitness < global_best_fitness:\n",
    "                global_best_position = particle.position.copy()\n",
    "                global_best_fitness = current_fitness\n",
    "                \n",
    "    # Find the best route from the provided routes list\n",
    "    best_route_fitness = float('inf')\n",
    "    best_route = None\n",
    "    for route in routes:\n",
    "        route_fitness = first_particle.fitness(route)\n",
    "        if route_fitness < best_route_fitness:\n",
    "            best_route_fitness = route_fitness\n",
    "            best_route = route\n",
    "    \n",
    "    return best_route, best_route_fitness\n",
    "\n",
    "\n",
    "\n",
    "\n",
    "# Example usage\n",
    "num_customers = 32\n",
    "capacity = 100\n",
    "num_particles = 10\n",
    "num_iterations = 100\n",
    "c1 = 2  # Cognitive parameter\n",
    "c2 = 2  # Social parameter\n",
    "w = 0.5  # Inertia weight\n",
    "\n",
    "# Distance matrix (example, replace with actual distances)\n",
    "# Distance matrix (example, replace with actual distances)\n",
    "distance_matrix = np.random.randint(1, 100, size=(num_customers + 2, num_customers + 2))  # Adjust size to (num_customers + 2, num_customers + 2)\n",
    "np.fill_diagonal(distance_matrix, 0)\n",
    "\n",
    "\n",
    "\n",
    "# Demand dictionary\n",
    "demand = {\n",
    "    0: 0, 1: 5, 2: 23, 3: 14, 4: 13, 5: 8, 6: 18, 7: 19, 8: 10, 9: 18,\n",
    "    10: 20, 11: 5, 12: 9, 13: 23, 14: 9, 15: 18, 16: 10, 17: 24, 18: 13,\n",
    "    19: 14, 20: 8, 21: 10, 22: 19, 23: 14, 24: 13, 25: 14, 26: 2, 27: 23,\n",
    "    28: 15, 29: 8, 30: 20, 31: 24, 32: 3,33 : 10\n",
    "}\n",
    "\n",
    "\n",
    "routes = [\n",
    "[0, 7, 8, 13, 26, 0, 2, 15, 22, 0, 4, 12, 0, 1, 14, 19, 21, 0, 9, 17, 0, 5, 10, 25, 27, 30, 0, 20, 32, 0, 3, 16, 0], \n",
    "[0, 7, 8, 13, 26, 0, 11, 18, 23, 28, 29, 31, 0, 15, 0, 4, 12, 0, 1, 14, 19, 21, 0, 9, 17, 0, 5, 10, 25, 27, 30, 0, 20, 32, 0, 3, 16, 0, 0, 2, 22, 0, 6, 24, 0],\n",
    " [0, 7, 26, 0, 11, 18, 23, 28, 31, 0, 15, 0, 4, 12, 0, 1, 14, 19, 21,0, 9, 17, 0, 10, 0, 32, 0, 3, 16, 0,2, 22, 0, 6, 24, 0, 29, 0, 8, 13, 0, 20, 0, 5, 25, 27, 30, 0],\n",
    " [0, 7, 8, 13, 26, 0, 11, 18, 23, 28, 29, 31, 0, 15, 0, 4, 12, 0, 1, 14, 19, 21, 0, 9, 17, 0, 5, 10, 25, 27, 30, 0, 20, 32, 0, 3, 16, 0, 2, 22, 0, 6, 24, 0], \n",
    "[0, 7, 26, 0, 11, 18, 23, 28, 31, 0, 15, 0, 4, 12, 0, 1, 14, 19, 21, 0, 9, 17, 0, 10, 0, 32, 0, 3, 16, 0, 2, 22, 0, 6, 24, 0, 29, 0, 8, 13, 0, 20, 0, 5, 25, 27, 30, 0], \n",
    "[0, 7, 26, 0, 11, 18, 23, 28, 31, 0, 15, 0, 4, 12, 0, 1, 14, 19, 21, 0, 9, 17, 0, 5, 10, 25, 27, 30, 0, 20, 32, 0, 3, 16,0, 2, 22, 0, 6, 24, 0, 29, 0, 8, 13, 0], \n",
    "[0, 7, 26, 0, 11, 18, 23, 28, 31, 0, 15, 0, 4, 12, 0, 1, 14, 19, 21, 0, 9, 17, 0, 10, 0, 32, 0, 3, 16, 0, 2, 22, 0, 6, 24, 0, 29, 0, 8, 13, 0, 20, 0, 5, 25, 27, 30, 0],\n",
    "[0, 7, 0 ,11, 18, 23, 28, 31, 0, 15, 0, 4, 12, 0, 1, 14, 19, 21, 0, 9, 17, 0, 10, 0, 32, 0, 3, 16, 0, 2, 22, 0, 6, 24, 0, 29, 0, 13, 0, 20, 0, 5, 25, 27, 30, 0, 8, 26, 0],\n",
    "[0, 7, 26, 0, 11, 18, 23, 28, 31, 0, 15, 0, 4, 12, 0, 1, 14, 19, 21, 0, 9, 17, 0, 10, 0, 32, 0, 3, 16, 0, 2, 22, 0, 6, 24, 0, 29, 0, 8, 13, 0, 20, 0, 5, 25, 27, 30, 0],\n",
    " [0, 7, 26, 0, 11, 18, 23, 28, 31, 0, 15, 0, 4, 12, 0, 1, 14, 19, 21, 0, 9, 17, 0, 5, 10, 25, 27, 30, 0, 20, 32, 0, 3, 16, 0, 2, 22, 0, 6, 24, 0, 29, 0, 8, 13, 0]\n",
    "]\n",
    "\n",
    "\n",
    "best_position, best_fitness = particle_swarm_optimization(num_customers, capacity, num_particles,\n",
    "                                                          num_iterations, c1, c2, w,\n",
    "                                                          distance_matrix, demand, routes)\n",
    "\n",
    "print(\"Best route:\",best_position)\n",
    "print(\"Best fitness:\", best_fitness)"
   ]
  },
  {
   "cell_type": "code",
   "execution_count": null,
   "id": "265513b1-a1d4-4b52-ad80-e56867f8e953",
   "metadata": {},
   "outputs": [],
   "source": []
  },
  {
   "cell_type": "code",
   "execution_count": null,
   "id": "47439b24-db13-446a-b76c-39705ba9db9f",
   "metadata": {},
   "outputs": [],
   "source": []
  },
  {
   "cell_type": "code",
   "execution_count": null,
   "id": "153d6e81-1029-47b9-8665-9185e99896ff",
   "metadata": {},
   "outputs": [],
   "source": []
  },
  {
   "cell_type": "code",
   "execution_count": null,
   "id": "9bc0fab2-14b0-482f-84e7-cbf31debd757",
   "metadata": {},
   "outputs": [],
   "source": []
  },
  {
   "cell_type": "code",
   "execution_count": null,
   "id": "c4e39d9a-8269-4f17-9b4e-4a3362ef494c",
   "metadata": {},
   "outputs": [],
   "source": []
  }
 ],
 "metadata": {
  "kernelspec": {
   "display_name": "Python 3 (ipykernel)",
   "language": "python",
   "name": "python3"
  },
  "language_info": {
   "codemirror_mode": {
    "name": "ipython",
    "version": 3
   },
   "file_extension": ".py",
   "mimetype": "text/x-python",
   "name": "python",
   "nbconvert_exporter": "python",
   "pygments_lexer": "ipython3",
   "version": "3.12.0"
  },
  "widgets": {
   "application/vnd.jupyter.widget-state+json": {
    "state": {},
    "version_major": 2,
    "version_minor": 0
   }
  }
 },
 "nbformat": 4,
 "nbformat_minor": 5
}
